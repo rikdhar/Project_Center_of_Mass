{
 "cells": [
  {
   "cell_type": "code",
   "execution_count": 12,
   "metadata": {},
   "outputs": [
    {
     "data": {
      "text/plain": [
       "[                                                     0            1  \\\n",
       " 0    The chemical elements of the periodic chart so...  Atomic Mass   \n",
       " 1                                - Name alphabetically       1.0079   \n",
       " 2                                      - Atomic number       4.0026   \n",
       " 3                                             - Symbol        6.941   \n",
       " 4                                        - Atomic Mass       9.0122   \n",
       " 5                                  - Electronegativity       10.811   \n",
       " 6                                            - Density      12.0107   \n",
       " 7                                      - Melting point      14.0067   \n",
       " 8                                      - Boiling point      15.9994   \n",
       " 9                                 - Vanderwaals radius      18.9984   \n",
       " 10                                 - Year of discovery      20.1797   \n",
       " 11                                  - Inventor surname      22.9897   \n",
       " 12                            - Elements in earthcrust       24.305   \n",
       " 13                            - Elements in human body      26.9815   \n",
       " 14                                   - Covalenz radius      28.0855   \n",
       " 15                                 - Ionization energy      30.9738   \n",
       " 16   For chemistry students and teachers: The tabul...       32.065   \n",
       " 17   For chemistry students and teachers: The tabul...       35.453   \n",
       " 18   For chemistry students and teachers: The tabul...      39.0983   \n",
       " 19   For chemistry students and teachers: The tabul...       39.948   \n",
       " 20   For chemistry students and teachers: The tabul...       40.078   \n",
       " 21   For chemistry students and teachers: The tabul...      44.9559   \n",
       " 22   For chemistry students and teachers: The tabul...       47.867   \n",
       " 23   For chemistry students and teachers: The tabul...      50.9415   \n",
       " 24   For chemistry students and teachers: The tabul...      51.9961   \n",
       " 25   For chemistry students and teachers: The tabul...       54.938   \n",
       " 26   For chemistry students and teachers: The tabul...       55.845   \n",
       " 27   For chemistry students and teachers: The tabul...      58.6934   \n",
       " 28   For chemistry students and teachers: The tabul...      58.9332   \n",
       " 29   For chemistry students and teachers: The tabul...       63.546   \n",
       " ..                                                 ...          ...   \n",
       " 89                                                 NaN          227   \n",
       " 90                                                 NaN     231.0359   \n",
       " 91                                                 NaN     232.0381   \n",
       " 92                                                 NaN          237   \n",
       " 93                                                 NaN     238.0289   \n",
       " 94                                                 NaN          243   \n",
       " 95                                                 NaN          244   \n",
       " 96                                                 NaN          247   \n",
       " 97                                                 NaN          247   \n",
       " 98                                                 NaN          251   \n",
       " 99                                                 NaN          252   \n",
       " 100                                                NaN          257   \n",
       " 101                                                NaN          258   \n",
       " 102                                                NaN          259   \n",
       " 103                                                NaN          261   \n",
       " 104                                                NaN          262   \n",
       " 105                                                NaN          262   \n",
       " 106                                                NaN          264   \n",
       " 107                                                NaN          266   \n",
       " 108                                                NaN          268   \n",
       " 109                                                NaN          272   \n",
       " 110                                                NaN          277   \n",
       " 111                                                NaN          NaN   \n",
       " 112                                                NaN          NaN   \n",
       " 113                                                NaN          NaN   \n",
       " 114                                                NaN          NaN   \n",
       " 115                                                NaN          NaN   \n",
       " 116                                                NaN          NaN   \n",
       " 117                                                NaN          NaN   \n",
       " 118                                                NaN          NaN   \n",
       " \n",
       "                          2       3              4  \n",
       " 0    Name chemical element  Symbol  Atomic number  \n",
       " 1                 Hydrogen       H              1  \n",
       " 2                   Helium      He              2  \n",
       " 3                  Lithium      Li              3  \n",
       " 4                Beryllium      Be              4  \n",
       " 5                    Boron       B              5  \n",
       " 6                   Carbon       C              6  \n",
       " 7                 Nitrogen       N              7  \n",
       " 8                   Oxygen       O              8  \n",
       " 9                 Fluorine       F              9  \n",
       " 10                    Neon      Ne             10  \n",
       " 11                  Sodium      Na             11  \n",
       " 12               Magnesium      Mg             12  \n",
       " 13                Aluminum      Al             13  \n",
       " 14                 Silicon      Si             14  \n",
       " 15              Phosphorus       P             15  \n",
       " 16                  Sulfur       S             16  \n",
       " 17                Chlorine      Cl             17  \n",
       " 18               Potassium       K             19  \n",
       " 19                   Argon      Ar             18  \n",
       " 20                 Calcium      Ca             20  \n",
       " 21                Scandium      Sc             21  \n",
       " 22                Titanium      Ti             22  \n",
       " 23                Vanadium       V             23  \n",
       " 24                Chromium      Cr             24  \n",
       " 25               Manganese      Mn             25  \n",
       " 26                    Iron      Fe             26  \n",
       " 27                  Nickel      Ni             28  \n",
       " 28                  Cobalt      Co             27  \n",
       " 29                  Copper      Cu             29  \n",
       " ..                     ...     ...            ...  \n",
       " 89                Actinium      Ac             89  \n",
       " 90            Protactinium      Pa             91  \n",
       " 91                 Thorium      Th             90  \n",
       " 92               Neptunium      Np             93  \n",
       " 93                 Uranium       U             92  \n",
       " 94               Americium      Am             95  \n",
       " 95               Plutonium      Pu             94  \n",
       " 96                  Curium      Cm             96  \n",
       " 97               Berkelium      Bk             97  \n",
       " 98             Californium      Cf             98  \n",
       " 99             Einsteinium      Es             99  \n",
       " 100                Fermium      Fm            100  \n",
       " 101            Mendelevium      Md            101  \n",
       " 102               Nobelium      No            102  \n",
       " 103          Rutherfordium      Rf            104  \n",
       " 104             Lawrencium      Lr            103  \n",
       " 105                Dubnium      Db            105  \n",
       " 106                Bohrium      Bh            107  \n",
       " 107             Seaborgium      Sg            106  \n",
       " 108             Meitnerium      Mt            109  \n",
       " 109            Roentgenium      Rg            111  \n",
       " 110                Hassium      Hs            108  \n",
       " 111           Darmstadtium      Ds            110  \n",
       " 112            Copernicium      Cn            112  \n",
       " 113               Nihonium      Nh            113  \n",
       " 114              Flerovium      Fl            114  \n",
       " 115              Moscovium      Mc            115  \n",
       " 116            Livermorium      Lv            116  \n",
       " 117             Tennessine      Ts            117  \n",
       " 118              Oganesson      Og            118  \n",
       " \n",
       " [119 rows x 5 columns]]"
      ]
     },
     "execution_count": 12,
     "metadata": {},
     "output_type": "execute_result"
    }
   ],
   "source": [
    "import pandas as pd\n",
    "amdf = pd.read_html('https://www.lenntech.com/periodic/mass/atomic-mass.htm')\n",
    "amdf"
   ]
  },
  {
   "cell_type": "code",
   "execution_count": 7,
   "metadata": {},
   "outputs": [
    {
     "ename": "AttributeError",
     "evalue": "module 'pandas' has no attribute 'pdf'",
     "output_type": "error",
     "traceback": [
      "\u001b[1;31m---------------------------------------------------------------------------\u001b[0m",
      "\u001b[1;31mAttributeError\u001b[0m                            Traceback (most recent call last)",
      "\u001b[1;32m<ipython-input-7-935e8dc33899>\u001b[0m in \u001b[0;36m<module>\u001b[1;34m\u001b[0m\n\u001b[1;32m----> 1\u001b[1;33m \u001b[0mpd\u001b[0m\u001b[1;33m.\u001b[0m\u001b[0mpdf\u001b[0m\u001b[1;33m\u001b[0m\u001b[1;33m\u001b[0m\u001b[0m\n\u001b[0m",
      "\u001b[1;31mAttributeError\u001b[0m: module 'pandas' has no attribute 'pdf'"
     ]
    }
   ],
   "source": [
    "pd.pdf"
   ]
  },
  {
   "cell_type": "code",
   "execution_count": 6,
   "metadata": {},
   "outputs": [
    {
     "ename": "NameError",
     "evalue": "name 'dfs' is not defined",
     "output_type": "error",
     "traceback": [
      "\u001b[1;31m---------------------------------------------------------------------------\u001b[0m",
      "\u001b[1;31mNameError\u001b[0m                                 Traceback (most recent call last)",
      "\u001b[1;32m<ipython-input-6-f39da68530fa>\u001b[0m in \u001b[0;36m<module>\u001b[1;34m\u001b[0m\n\u001b[1;32m----> 1\u001b[1;33m \u001b[0mdfs\u001b[0m\u001b[1;33m[\u001b[0m\u001b[1;34m'Atomic Mass'\u001b[0m\u001b[1;33m]\u001b[0m\u001b[1;33m\u001b[0m\u001b[1;33m\u001b[0m\u001b[0m\n\u001b[0m",
      "\u001b[1;31mNameError\u001b[0m: name 'dfs' is not defined"
     ]
    }
   ],
   "source": [
    "dfs['Atomic Mass']"
   ]
  },
  {
   "cell_type": "code",
   "execution_count": null,
   "metadata": {},
   "outputs": [],
   "source": []
  }
 ],
 "metadata": {
  "kernelspec": {
   "display_name": "Python 3",
   "language": "python",
   "name": "python3"
  },
  "language_info": {
   "codemirror_mode": {
    "name": "ipython",
    "version": 3
   },
   "file_extension": ".py",
   "mimetype": "text/x-python",
   "name": "python",
   "nbconvert_exporter": "python",
   "pygments_lexer": "ipython3",
   "version": "3.7.3"
  }
 },
 "nbformat": 4,
 "nbformat_minor": 2
}
