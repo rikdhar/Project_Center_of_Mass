{
 "cells": [
  {
   "cell_type": "code",
   "execution_count": 1,
   "metadata": {},
   "outputs": [
    {
     "name": "stdout",
     "output_type": "stream",
     "text": [
      "9\n"
     ]
    }
   ],
   "source": [
    "x = 8\n",
    "print(1+x)"
   ]
  },
  {
   "cell_type": "code",
   "execution_count": 2,
   "metadata": {},
   "outputs": [
    {
     "name": "stdout",
     "output_type": "stream",
     "text": [
      "   A  B  C  D  E  F\n",
      "0  1  4  7  1  5  7\n",
      "1  2  5  8  3  3  4\n",
      "2  3  6  9  5  6  3\n",
      "   A  B  C  D  E  F   X\n",
      "0  1  4  7  1  5  7   4\n",
      "1  2  5  8  3  3  4  10\n",
      "2  3  6  9  5  6  3  18\n"
     ]
    },
    {
     "data": {
      "text/plain": [
       "32"
      ]
     },
     "execution_count": 2,
     "metadata": {},
     "output_type": "execute_result"
    }
   ],
   "source": [
    "import pandas as pd\n",
    "df = pd.DataFrame({'A':[1,2,3],\n",
    "                   'B':[4,5,6],\n",
    "                   'C':[7,8,9],\n",
    "                   'D':[1,3,5],\n",
    "                   'E':[5,3,6],\n",
    "                   'F':[7,4,3]})\n",
    "print(df)\n",
    "df['X'] = df.A*df.B\n",
    "print(df)\n",
    "df.X.sum()"
   ]
  },
  {
   "cell_type": "code",
   "execution_count": null,
   "metadata": {},
   "outputs": [],
   "source": []
  },
  {
   "cell_type": "code",
   "execution_count": null,
   "metadata": {},
   "outputs": [],
   "source": []
  }
 ],
 "metadata": {
  "kernelspec": {
   "display_name": "Python 3",
   "language": "python",
   "name": "python3"
  },
  "language_info": {
   "codemirror_mode": {
    "name": "ipython",
    "version": 3
   },
   "file_extension": ".py",
   "mimetype": "text/x-python",
   "name": "python",
   "nbconvert_exporter": "python",
   "pygments_lexer": "ipython3",
   "version": "3.7.3"
  }
 },
 "nbformat": 4,
 "nbformat_minor": 2
}
