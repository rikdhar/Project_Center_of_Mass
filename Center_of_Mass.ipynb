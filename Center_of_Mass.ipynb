{
 "cells": [
  {
   "cell_type": "code",
   "execution_count": 1,
   "metadata": {},
   "outputs": [
    {
     "data": {
      "text/plain": [
       "\"\\nDescription: Calculate center of mass of a protein from it's pdb ID\\nAuthor: Rik Dhar\\n\""
      ]
     },
     "execution_count": 1,
     "metadata": {},
     "output_type": "execute_result"
    }
   ],
   "source": [
    "#Description: Calculate center of mass of a protein from it's pdb ID\n",
    "#Author: Rik Dhar"
   ]
  },
  {
   "cell_type": "code",
   "execution_count": 1,
   "metadata": {},
   "outputs": [],
   "source": [
    "import pandas as pd\n",
    "import numpy as np\n",
    "from biopandas.pdb import PandasPdb\n",
    "ppdb = PandasPdb()\n",
    "\n",
    "#Importing library pandas, numpy and biopandas\n"
   ]
  },
  {
   "cell_type": "code",
   "execution_count": 2,
   "metadata": {},
   "outputs": [
    {
     "name": "stdin",
     "output_type": "stream",
     "text": [
      "Enter PDB ID:  1ek9\n"
     ]
    },
    {
     "data": {
      "text/plain": [
       "<biopandas.pdb.pandas_pdb.PandasPdb at 0x20db9a0f160>"
      ]
     },
     "execution_count": 2,
     "metadata": {},
     "output_type": "execute_result"
    }
   ],
   "source": [
    "name = input(\"Enter PDB ID: \")\n",
    "type(name)\n",
    "ppdb.fetch_pdb(name)\n",
    "\n",
    "#Asking user input for pdb ID and then fetching file as a pandas dataframe.\n"
   ]
  },
  {
   "cell_type": "code",
   "execution_count": 13,
   "metadata": {},
   "outputs": [],
   "source": [
    "hetatm_df = ppdb.df['HETATM']\n",
    "atm_df = ppdb.df['ATOM']\n",
    "het_woH2O_df = hetatm_df[hetatm_df[\"residue_name\"].str.contains('HOH') == False]\n",
    "\n",
    "#Creating a new dataframes for atoms, hetroatoms, and heteroatoms without water.\n"
   ]
  },
  {
   "cell_type": "code",
   "execution_count": 14,
   "metadata": {},
   "outputs": [],
   "source": [
    "nan = np.nan\n",
    "atomic_mass = pd.DataFrame({'symbol': ['H','HE','LI','BE','B','C','N','O','F','NE','NA','MG','AL','SI','P','S','CL','K','AR','CA','SC','TI','V','CR','MN','FE','NI','CO','CU','ZN','GA','GE','AS','SE','BR','KR','RB','SR','Y','ZR','NB','MO','TC','RU','RH','PD','AG','CD','IN','SN','SB','I','TE','XE','CS','BA','LA','CE','PR','ND','PM','SM','EU','GD','TB','DY','HO','ER','TM','YB','LU','HF','TA','W','RE','OS','IR','PT','AU','HG','TL','PB','BI','PO','AT','RN','FR','RA','AC','PA','TH','NP','U','AM','PU','CM','BK','CF','ES','FM','MD','NO','RF','LR','DB','BH','SG','MT','RG','HS','DS','CN','NH','FL','MC','LV','TS','OG'],\n",
    "                            'atomic mass': [1.0079,4.0026,6.941,9.0122,10.811,12.0107,14.0067,15.9994,18.9984,20.1797,22.9897,24.305,26.9815,28.0855,30.9738,32.065,35.453,39.0983,39.948,40.078,44.9559,47.867,50.9415,51.9961,54.938,55.845,58.6934,58.9332,63.546,65.39,69.723,72.64,74.9216,78.96,79.904,83.8,85.4678,87.62,88.9059,91.224,92.9064,95.94,98,101.07,102.9055,106.42,107.8682,112.411,114.818,118.71,121.76,126.9045,127.6,131.293,132.9055,137.327,138.9055,140.116,140.9077,144.24,145,150.36,151.964,157.25,158.9253,162.5,164.9303,167.259,168.9342,173.04,174.967,178.49,180.9479,183.84,186.207,190.23,192.217,195.078,196.9665,200.59,204.3833,207.2,208.9804,209,210,222,223,226,227,231.0359,232.0381,237,238.0289,243,244,247,247,251,252,257,258,259,261,262,262,264,266,268,272,277,nan,nan,nan,nan,nan,nan,nan,nan,]})  \n",
    "\n",
    "#Creating a dataframe with the list of atomic masses\n"
   ]
  },
  {
   "cell_type": "code",
   "execution_count": 7,
   "metadata": {},
   "outputs": [],
   "source": [
    "def mass_multiply(df):\n",
    "    df['mass'] = nan\n",
    "    for x in range(df.index.size):\n",
    "        X = df.at[x,'element_symbol']\n",
    "        for y in range(atomic_mass.index.size):\n",
    "            Y = atomic_mass.at[y,'symbol']\n",
    "            if X == Y:\n",
    "                df.at[x,'mass'] = atomic_mass.at[y,'atomic mass'] \n",
    "    df['x_coord*mass'] = df.x_coord*df.mass\n",
    "    df['y_coord*mass'] = df.y_coord*df.mass\n",
    "    df['z_coord*mass'] = df.z_coord*df.mass \n",
    "\n",
    "#Function to create new columns in the dataframe with the coordinates multiplied with their respective masses.\n"
   ]
  },
  {
   "cell_type": "code",
   "execution_count": 9,
   "metadata": {},
   "outputs": [
    {
     "name": "stderr",
     "output_type": "stream",
     "text": [
      "c:\\users\\rikdh\\appdata\\local\\programs\\python\\python37\\lib\\site-packages\\ipykernel_launcher.py:2: SettingWithCopyWarning: \n",
      "A value is trying to be set on a copy of a slice from a DataFrame.\n",
      "Try using .loc[row_indexer,col_indexer] = value instead\n",
      "\n",
      "See the caveats in the documentation: http://pandas.pydata.org/pandas-docs/stable/indexing.html#indexing-view-versus-copy\n",
      "  \n",
      "c:\\users\\rikdh\\appdata\\local\\programs\\python\\python37\\lib\\site-packages\\ipykernel_launcher.py:9: SettingWithCopyWarning: \n",
      "A value is trying to be set on a copy of a slice from a DataFrame.\n",
      "Try using .loc[row_indexer,col_indexer] = value instead\n",
      "\n",
      "See the caveats in the documentation: http://pandas.pydata.org/pandas-docs/stable/indexing.html#indexing-view-versus-copy\n",
      "  if __name__ == '__main__':\n",
      "c:\\users\\rikdh\\appdata\\local\\programs\\python\\python37\\lib\\site-packages\\ipykernel_launcher.py:10: SettingWithCopyWarning: \n",
      "A value is trying to be set on a copy of a slice from a DataFrame.\n",
      "Try using .loc[row_indexer,col_indexer] = value instead\n",
      "\n",
      "See the caveats in the documentation: http://pandas.pydata.org/pandas-docs/stable/indexing.html#indexing-view-versus-copy\n",
      "  # Remove the CWD from sys.path while we load stuff.\n",
      "c:\\users\\rikdh\\appdata\\local\\programs\\python\\python37\\lib\\site-packages\\ipykernel_launcher.py:11: SettingWithCopyWarning: \n",
      "A value is trying to be set on a copy of a slice from a DataFrame.\n",
      "Try using .loc[row_indexer,col_indexer] = value instead\n",
      "\n",
      "See the caveats in the documentation: http://pandas.pydata.org/pandas-docs/stable/indexing.html#indexing-view-versus-copy\n",
      "  # This is added back by InteractiveShellApp.init_path()\n"
     ]
    }
   ],
   "source": [
    "mass_multiply(atm_df)\n",
    "mass_multiply(hetatm_df)\n",
    "mass_multiply(het_woH2O_df)\n",
    "\n",
    "#Applying function to different dataframes"
   ]
  },
  {
   "cell_type": "code",
   "execution_count": 10,
   "metadata": {},
   "outputs": [],
   "source": [
    "def com(df):\n",
    "    x = df['x_coord*mass'].sum()/df['mass'].sum() \n",
    "    y = df['y_coord*mass'].sum()/df['mass'].sum()\n",
    "    z = df['z_coord*mass'].sum()/df['mass'].sum()\n",
    "    return {'CoM_X': x, 'CoM_Y': y ,'CoM_Z': z}\n",
    "\n",
    "#Function to calculate center of mass and return the coordinates as a dictionary\n"
   ]
  },
  {
   "cell_type": "code",
   "execution_count": 11,
   "metadata": {},
   "outputs": [],
   "source": [
    "merge = [atm_df, het_woH2O_df]\n",
    "total_df = pd.concat(merge)\n",
    "\n",
    "#Merge the atom dataframe with the hetero atom with water dataframe\n"
   ]
  },
  {
   "cell_type": "code",
   "execution_count": 12,
   "metadata": {},
   "outputs": [
    {
     "name": "stdout",
     "output_type": "stream",
     "text": [
      "Center of mass of atoms of the protein:\n",
      "{'CoM_X': -3.850091140181424, 'CoM_Y': 57.182618513958346, 'CoM_Z': 46.58754377164995}\n",
      "\n",
      "\n",
      "Center of mass of heteroatoms of the protein:\n",
      "{'CoM_X': 4.44886416328361, 'CoM_Y': 61.5999262735539, 'CoM_Z': 49.10666413189257}\n",
      "\n",
      "\n",
      "Center of mass of heteroatoms of the protein withput water:\n",
      "{'CoM_X': -13.818399779276092, 'CoM_Y': 49.683249995069616, 'CoM_Z': 42.0346040730582}\n",
      "\n",
      "\n",
      "Center of mass of the protein:\n",
      "{'CoM_X': -4.041933311047311, 'CoM_Y': 57.03829160867529, 'CoM_Z': 46.49992150119037}\n"
     ]
    }
   ],
   "source": [
    "print(\"Center of mass of atoms of the protein:\")\n",
    "print(com(atm_df))\n",
    "print(\"\\n\")\n",
    "print(\"Center of mass of heteroatoms of the protein:\")\n",
    "print(com(hetatm_df))\n",
    "print(\"\\n\")\n",
    "print(\"Center of mass of heteroatoms of the protein withput water:\")\n",
    "print(com(het_woH2O_df))\n",
    "print(\"\\n\")\n",
    "print(\"Center of mass of the protein:\")\n",
    "print(com(total_df))"
   ]
  },
  {
   "cell_type": "markdown",
   "metadata": {},
   "source": [
    "hetatm_df.to_csv(r'C:\\Users\\rikdh\\Documents\\Lab Work\\Computational\\Project_Center_of_Mass\\HETATOM.csv')"
   ]
  },
  {
   "cell_type": "markdown",
   "metadata": {},
   "source": [
    "string = \"hetatm_df['x_coord*mass'] = hetatm_df.x_coord*hetatm_df.masshetatm_df['y_coord*mass'] = hetatm_df.y_coord*hetatm_df.masshetatm_df['z_coord*mass'] = hetatm_df.z_coord*hetatm_df.mass\"\n",
    "string = string.replace('hetatm_df', 'type')\n",
    "hetatm_df.loc[0] \n",
    "string"
   ]
  },
  {
   "cell_type": "code",
   "execution_count": null,
   "metadata": {},
   "outputs": [],
   "source": []
  }
 ],
 "metadata": {
  "kernelspec": {
   "display_name": "Python 3",
   "language": "python",
   "name": "python3"
  },
  "language_info": {
   "codemirror_mode": {
    "name": "ipython",
    "version": 3
   },
   "file_extension": ".py",
   "mimetype": "text/x-python",
   "name": "python",
   "nbconvert_exporter": "python",
   "pygments_lexer": "ipython3",
   "version": "3.7.3"
  }
 },
 "nbformat": 4,
 "nbformat_minor": 2
}
